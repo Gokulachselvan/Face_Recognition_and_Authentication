{
 "cells": [
  {
   "cell_type": "code",
   "execution_count": 1,
   "id": "4841f6d7",
   "metadata": {},
   "outputs": [
    {
     "name": "stdout",
     "output_type": "stream",
     "text": [
      "Enter the person's name: Ruthwik\n"
     ]
    }
   ],
   "source": [
    "import cv2\n",
    "import os\n",
    "import numpy as np\n",
    "from sklearn.decomposition import PCA\n",
    "\n",
    "# Define the directory where the dataset will be saved\n",
    "dataset_dir = 'face_recognition/dataset'\n",
    "\n",
    "# Create the dataset directory if it does not exist\n",
    "if not os.path.exists(dataset_dir):\n",
    "    os.makedirs(dataset_dir)\n",
    "\n",
    "# Initialize the webcam\n",
    "cap = cv2.VideoCapture(0)\n",
    "\n",
    "# Define the face detector\n",
    "face_detector = cv2.CascadeClassifier(cv2.data.haarcascades + 'haarcascade_frontalface_default.xml')\n",
    "\n",
    "# Initialize a counter for the number of images captured\n",
    "img_counter = 0\n",
    "\n",
    "# Ask for the person's name\n",
    "name = input(\"Enter the person's name: \")\n",
    "\n",
    "# Create a folder in the dataset directory with the person's name\n",
    "person_dir = os.path.join(dataset_dir, name)\n",
    "if not os.path.exists(person_dir):\n",
    "    os.makedirs(person_dir)\n",
    "\n",
    "# Capture images until 10 images are captured\n",
    "while img_counter < 100:\n",
    "    # Read a frame from the webcam\n",
    "    ret, frame = cap.read()\n",
    "\n",
    "    # Convert the frame to grayscale\n",
    "    gray = cv2.cvtColor(frame, cv2.COLOR_BGR2GRAY)\n",
    "\n",
    "    # Detect faces in the frame\n",
    "    faces = face_detector.detectMultiScale(gray, scaleFactor=1.3, minNeighbors=5)\n",
    "    \n",
    "    if len(faces) == 1:\n",
    "        (x, y, w, h) = faces[0]\n",
    "\n",
    "        cv2.rectangle(frame, (x, y), (x + w, y + h), (0, 255, 0), 2)\n",
    "\n",
    "        # Crop the face region from the frame\n",
    "        face = gray[y:y+h, x:x+w]\n",
    "\n",
    "        # Perform intensity normalization on the face\n",
    "        face_normalized = cv2.equalizeHist(face)\n",
    "\n",
    "        # Resize the face image to a fixed size (e.g., 100x100)\n",
    "        resized_face = cv2.resize(face_normalized, (100, 100))\n",
    "\n",
    "        # Flatten the face image into a 1D array\n",
    "        flattened_face = resized_face.flatten()\n",
    "\n",
    "        # Save the flattened face image\n",
    "        img_name = f\"{person_dir}/{name}_{img_counter}.jpg\"\n",
    "        cv2.imwrite(img_name, resized_face)\n",
    "\n",
    "        img_counter += 1\n",
    "    elif len(faces) > 1:\n",
    "        cv2.putText(frame, \"Multiple faces detected. Please ensure only 1 is present.\", (10, 30), cv2.FONT_HERSHEY_SIMPLEX, 0.7, (0, 0, 255), 2)\n",
    "    else:\n",
    "        cv2.putText(frame, \"No faces detected. Please position your face correctly.\", (10, 30), cv2.FONT_HERSHEY_SIMPLEX, 0.7, (0, 0, 255), 2)\n",
    "\n",
    "    cv2.imshow('Capture Face', frame)\n",
    "\n",
    "    if cv2.waitKey(1) & 0xFF == ord('q'):\n",
    "        break\n",
    "\n",
    "cap.release()\n",
    "cv2.destroyAllWindows()"
   ]
  },
  {
   "cell_type": "code",
   "execution_count": null,
   "id": "0522ca45",
   "metadata": {},
   "outputs": [],
   "source": []
  }
 ],
 "metadata": {
  "kernelspec": {
   "display_name": "Python 3 (ipykernel)",
   "language": "python",
   "name": "python3"
  },
  "language_info": {
   "codemirror_mode": {
    "name": "ipython",
    "version": 3
   },
   "file_extension": ".py",
   "mimetype": "text/x-python",
   "name": "python",
   "nbconvert_exporter": "python",
   "pygments_lexer": "ipython3",
   "version": "3.9.13"
  }
 },
 "nbformat": 4,
 "nbformat_minor": 5
}
